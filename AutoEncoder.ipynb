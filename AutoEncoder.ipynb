{
  "nbformat": 4,
  "nbformat_minor": 0,
  "metadata": {
    "colab": {
      "name": "AutoEncoder.ipynb",
      "provenance": [],
      "authorship_tag": "ABX9TyPeZY1qxprWlOwjK+RrDGjD",
      "include_colab_link": true
    },
    "kernelspec": {
      "name": "python3",
      "display_name": "Python 3"
    },
    "language_info": {
      "name": "python"
    }
  },
  "cells": [
    {
      "cell_type": "markdown",
      "metadata": {
        "id": "view-in-github",
        "colab_type": "text"
      },
      "source": [
        "<a href=\"https://colab.research.google.com/github/whiskey21/auto_encoder/blob/master/AutoEncoder.ipynb\" target=\"_parent\"><img src=\"https://colab.research.google.com/assets/colab-badge.svg\" alt=\"Open In Colab\"/></a>"
      ]
    },
    {
      "cell_type": "code",
      "execution_count": 15,
      "metadata": {
        "id": "6xE9bPI5LXrW"
      },
      "outputs": [],
      "source": [
        "import tensorflow as tf\n",
        "import numpy as np\n",
        "from tensorflow.keras.layers import *\n",
        "from tensorflow.keras.models import Model\n"
      ]
    },
    {
      "cell_type": "code",
      "source": [
        "# data load\n",
        "(x_train, _), (x_test, _) = tf.keras.datasets.mnist.load_data()\n",
        "# normalization\n",
        "x_train = x_train.astype(np.float32)/255.\n",
        "x_test = x_test.astype(np.float32)/255.\n",
        "# flatten\n",
        "x_train_flatten = x_train.reshape((x_train.shape[0], -1))\n",
        "x_test_flatten = x_test.reshape((x_test.shape[0], -1))\n",
        "\n",
        "print(x_train.shape)\n",
        "print(x_test.shape)\n"
      ],
      "metadata": {
        "colab": {
          "base_uri": "https://localhost:8080/"
        },
        "id": "sQxwAZTVLkfE",
        "outputId": "c7fe28b1-ff60-41f7-ad47-b9dc52c986f6"
      },
      "execution_count": 20,
      "outputs": [
        {
          "output_type": "stream",
          "name": "stdout",
          "text": [
            "(60000, 28, 28)\n",
            "(10000, 28, 28)\n"
          ]
        }
      ]
    },
    {
      "cell_type": "code",
      "source": [
        "input_img = Input(shape=(28, 28, 1))\n",
        "\n",
        "x = Conv2D(16, (3, 3), activation='relu', padding='same')(input_img)\n",
        "x = MaxPooling2D((2, 2), padding='same')(x)\n",
        "x = Conv2D(8, (3, 3), activation='relu', padding='same')(x)\n",
        "x = MaxPooling2D((2, 2), padding='same')(x)\n",
        "x = Conv2D(8, (3, 3), activation='relu', padding='same')(x)\n",
        "encoded = MaxPooling2D((2, 2), padding='same')(x)\n",
        "\n",
        "# encoder의 shape = (samples, 4, 4, 8)\n",
        "\n"
      ],
      "metadata": {
        "id": "kvJODM8PLy7S"
      },
      "execution_count": 7,
      "outputs": []
    },
    {
      "cell_type": "code",
      "source": [
        "\n",
        "x = Conv2D(8, (3, 3), activation='relu', padding='same')(encoded)\n",
        "x = UpSampling2D((2, 2))(x)\n",
        "x = Conv2D(8, (3, 3), activation='relu', padding='same')(x)\n",
        "x = UpSampling2D((2, 2))(x)\n",
        "x = Conv2D(16, (3, 3), activation='relu')(x)\n",
        "x = UpSampling2D((2, 2))(x)\n",
        "decoded = Conv2D(1, (3, 3), activation='sigmoid', padding='same')(x)\n",
        "# decoder의 shape = (sampels, 28, 28, 1)\n"
      ],
      "metadata": {
        "id": "C3fsTddMOJq8"
      },
      "execution_count": 8,
      "outputs": []
    },
    {
      "cell_type": "code",
      "source": [
        "autoencoder = Model(input_img, decoded)\n",
        "autoencoder.compile(optimizer='adam', loss='binary_crossentropy')\n",
        "encoder = Model(input_img, encoded)\n",
        "decoded_input = Input(shape=(4,4,8))\n",
        "decoded_layer = autoencoder.layers[7](decoded_input)\n",
        "for i in range(8,len(autoencoder.layers)):\n",
        "  decoded_layer = autoencoder.layers[i](decoded_layer)\n",
        "decoder = Model(decoded_input, decoded_layer)\n",
        "from tensorflow.keras.callbacks import TensorBoard\n",
        "autoencoder.fit(x_train, x_train,\n",
        "batch_size=256, epochs=10,\n",
        "validation_data=(x_test,x_test),\n",
        "callbacks=[TensorBoard(log_dir='/tmp/autoencoder')])\n",
        "\n"
      ],
      "metadata": {
        "colab": {
          "base_uri": "https://localhost:8080/"
        },
        "id": "5x8VC0eIOPky",
        "outputId": "f2405245-2ba2-416e-91f5-50c2e299e0dd"
      },
      "execution_count": 21,
      "outputs": [
        {
          "output_type": "stream",
          "name": "stdout",
          "text": [
            "Epoch 1/10\n",
            "235/235 [==============================] - 56s 236ms/step - loss: 0.1093 - val_loss: 0.1058\n",
            "Epoch 2/10\n",
            "235/235 [==============================] - 52s 221ms/step - loss: 0.1068 - val_loss: 0.1057\n",
            "Epoch 3/10\n",
            "235/235 [==============================] - 52s 223ms/step - loss: 0.1064 - val_loss: 0.1050\n",
            "Epoch 4/10\n",
            "235/235 [==============================] - 52s 220ms/step - loss: 0.1060 - val_loss: 0.1049\n",
            "Epoch 5/10\n",
            "235/235 [==============================] - 51s 217ms/step - loss: 0.1056 - val_loss: 0.1041\n",
            "Epoch 6/10\n",
            "235/235 [==============================] - 51s 219ms/step - loss: 0.1050 - val_loss: 0.1036\n",
            "Epoch 7/10\n",
            "235/235 [==============================] - 52s 220ms/step - loss: 0.1045 - val_loss: 0.1030\n",
            "Epoch 8/10\n",
            "235/235 [==============================] - 51s 219ms/step - loss: 0.1041 - val_loss: 0.1027\n",
            "Epoch 9/10\n",
            "235/235 [==============================] - 51s 217ms/step - loss: 0.1036 - val_loss: 0.1022\n",
            "Epoch 10/10\n",
            "235/235 [==============================] - 52s 221ms/step - loss: 0.1032 - val_loss: 0.1024\n"
          ]
        },
        {
          "output_type": "execute_result",
          "data": {
            "text/plain": [
              "<keras.callbacks.History at 0x7f0924b95fd0>"
            ]
          },
          "metadata": {},
          "execution_count": 21
        }
      ]
    },
    {
      "cell_type": "code",
      "source": [
        "encoded_imgs = encoder.predict(x_test)\n",
        "decoded_imgs = decoder.predict(encoded_imgs)\n",
        "n = 10 # 이미지 갯수\n",
        "import matplotlib.pyplot as plt\n",
        "plt.figure(figsize=(20, 4))\n",
        "for i in range(1, n+1):\n",
        "# 원본 데이터\n",
        "  ax = plt.subplot(2, n, i)\n",
        "  plt.imshow(x_test_flatten[i].reshape(28, 28))\n",
        "  plt.gray()\n",
        "  ax.get_xaxis().set_visible(False)\n",
        "  ax.get_yaxis().set_visible(False)\n",
        "  # 재구성된 데이터\n",
        "  ax = plt.subplot(2, n, i + n)\n",
        "  plt.imshow(decoded_imgs[i].reshape(28, 28))\n",
        "  plt.gray()\n",
        "  ax.get_xaxis().set_visible(False)\n",
        "  ax.get_yaxis().set_visible(False)\n",
        "plt.show()"
      ],
      "metadata": {
        "colab": {
          "base_uri": "https://localhost:8080/",
          "height": 248
        },
        "id": "BTWN5azSTb1J",
        "outputId": "bd4711ce-7db1-4a49-949c-6bf5217738b6"
      },
      "execution_count": 23,
      "outputs": [
        {
          "output_type": "display_data",
          "data": {
            "text/plain": [
              "<Figure size 1440x288 with 20 Axes>"
            ],
            "image/png": "[encoded data removed]"
          },
          "metadata": {
            "needs_background": "light"
          }
        }
      ]
    },
    {
      "cell_type": "code",
      "source": [
        "def square_sum(y, t):\n",
        "  return 1.0 / 2.0 * np.sum(np.square(y-t))"
      ],
      "metadata": {
        "id": "ichwgC59Z2ds"
      },
      "execution_count": 27,
      "outputs": []
    },
    {
      "cell_type": "code",
      "source": [
        "loss_rate = square_sum(decoded_imgs[2], x_test_flatten[2])\n",
        "print(loss_rate)"
      ],
      "metadata": {
        "colab": {
          "base_uri": "https://localhost:8080/"
        },
        "id": "nGLreVSCeRlv",
        "outputId": "9cf40fd8-eb26-4aeb-e60c-f83f9051d8c0"
      },
      "execution_count": 28,
      "outputs": [
        {
          "output_type": "stream",
          "name": "stdout",
          "text": [
            "22081.548828125\n"
          ]
        }
      ]
    },
    {
      "cell_type": "code",
      "source": [
        "def cross_entropy(y, t):\n",
        "  return -np.sum(t * np.log(y + 1e-7))"
      ],
      "metadata": {
        "id": "KBiJVIiJiQQ5"
      },
      "execution_count": 29,
      "outputs": []
    },
    {
      "cell_type": "code",
      "source": [
        "loss_rate2 = cross_entropy(decoded_imgs[2], x_test_flatten[2])\n",
        "print(loss_rate2)"
      ],
      "metadata": {
        "colab": {
          "base_uri": "https://localhost:8080/"
        },
        "id": "sYEq_8d3iVFl",
        "outputId": "064d1f33-e233-47c0-c148-ed914016aa35"
      },
      "execution_count": 31,
      "outputs": [
        {
          "output_type": "stream",
          "name": "stdout",
          "text": [
            "344224.72\n"
          ]
        }
      ]
    }
  ]
}